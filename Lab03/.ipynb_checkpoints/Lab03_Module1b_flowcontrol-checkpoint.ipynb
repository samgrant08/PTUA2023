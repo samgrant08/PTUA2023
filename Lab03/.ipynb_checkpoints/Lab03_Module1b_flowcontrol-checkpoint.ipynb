{
 "cells": [
  {
   "cell_type": "markdown",
   "metadata": {
    "colab_type": "text",
    "deletable": true,
    "editable": true,
    "id": "cx68PZwToUxr"
   },
   "source": [
    "## Python Conditions and If statements\n",
    "Python supports the usual logical conditions from mathematics:\n",
    "\n",
    "* Equals: a == b\n",
    "* Not Equals: a != b\n",
    "* Less than: a < b\n",
    "* Less than or equal to: a <= b\n",
    "* Greater than: a > b\n",
    "* Greater than or equal to: a >= b\n",
    "* These conditions can be used in several ways, most commonly in \"if statements\" and loops.\n",
    "\n",
    "\n",
    "An \"if statement\" is written by using the if keyword."
   ]
  },
  {
   "cell_type": "code",
   "execution_count": 1,
   "metadata": {
    "colab": {
     "base_uri": "https://localhost:8080/",
     "height": 34
    },
    "colab_type": "code",
    "collapsed": false,
    "deletable": true,
    "editable": true,
    "id": "vv30oMIAoXAw",
    "outputId": "fc322530-8df7-49a5-a55a-b09d7e858522"
   },
   "outputs": [
    {
     "name": "stdout",
     "output_type": "stream",
     "text": [
      "b is greater than a\n"
     ]
    }
   ],
   "source": [
    "# if statement\n",
    "a = 50\n",
    "b = 100\n",
    "if b > a:\n",
    "  print(\"b is greater than a\")\n",
    " \n",
    "# Note: Indentation\n",
    "# Python relies on indentation (whitespace at the beginning of a line) to define\n",
    "# scope in the code. Other programming languages often use curly-brackets for this\n",
    "# purpose."
   ]
  },
  {
   "cell_type": "code",
   "execution_count": 2,
   "metadata": {
    "colab": {
     "base_uri": "https://localhost:8080/",
     "height": 34
    },
    "colab_type": "code",
    "collapsed": false,
    "deletable": true,
    "editable": true,
    "id": "3KdcFwXSoixC",
    "outputId": "57d632c1-a5dd-4865-873a-5182edbf5d22"
   },
   "outputs": [
    {
     "name": "stdout",
     "output_type": "stream",
     "text": [
      "a and b are equal\n"
     ]
    }
   ],
   "source": [
    "# Elif\n",
    "# The elif keyword is pythons way of saying \n",
    "# \"if the previous conditions were not true, then try this condition\".\n",
    "a = 50\n",
    "b = 50\n",
    "if b > a:\n",
    "  print(\"b is greater than a\")\n",
    "elif a == b:\n",
    "  print(\"a and b are equal\")\n"
   ]
  },
  {
   "cell_type": "code",
   "execution_count": 4,
   "metadata": {
    "colab": {
     "base_uri": "https://localhost:8080/",
     "height": 34
    },
    "colab_type": "code",
    "collapsed": false,
    "deletable": true,
    "editable": true,
    "id": "MXZ0xxH2o9Rj",
    "outputId": "a5c17bf8-1588-40f6-9727-4689f4b2fc72"
   },
   "outputs": [
    {
     "name": "stdout",
     "output_type": "stream",
     "text": [
      "a is greater than b\n"
     ]
    }
   ],
   "source": [
    "# Else\n",
    "# The else keyword catches anything \n",
    "# which isn't caught by the preceding conditions.\n",
    "a = 100\n",
    "b = 50\n",
    "if b > a:\n",
    "  print(\"b is greater than a\")\n",
    "elif a == b:\n",
    "  print(\"a and b are equal\")\n",
    "else:\n",
    "  print(\"a is greater than b\")"
   ]
  },
  {
   "cell_type": "code",
   "execution_count": 5,
   "metadata": {
    "colab": {
     "base_uri": "https://localhost:8080/",
     "height": 34
    },
    "colab_type": "code",
    "collapsed": false,
    "deletable": true,
    "editable": true,
    "id": "chWlANPFpKbG",
    "outputId": "6b28c40f-908b-43e2-a3bb-2ba9f29b868b"
   },
   "outputs": [
    {
     "name": "stdout",
     "output_type": "stream",
     "text": [
      "Both conditions are True\n"
     ]
    }
   ],
   "source": [
    "# And\n",
    "# The and keyword is a logical operator, \n",
    "# and is used to combine conditional statements.\n",
    "a = 200\n",
    "b = 33\n",
    "c = 500\n",
    "if a > b and c > a:\n",
    "  print(\"Both conditions are True\")"
   ]
  },
  {
   "cell_type": "code",
   "execution_count": 6,
   "metadata": {
    "colab": {
     "base_uri": "https://localhost:8080/",
     "height": 34
    },
    "colab_type": "code",
    "collapsed": false,
    "deletable": true,
    "editable": true,
    "id": "EGDJZ3z3pVbC",
    "outputId": "0fdcfc85-f1be-4cb2-8162-2088df47bc9a"
   },
   "outputs": [
    {
     "name": "stdout",
     "output_type": "stream",
     "text": [
      "At least one of the conditions is True\n"
     ]
    }
   ],
   "source": [
    "# Or\n",
    "# The or keyword is a logical operator, \n",
    "# and is used to combine conditional statements\n",
    "a = 200\n",
    "b = 33\n",
    "c = 500\n",
    "if a > b or a > c:\n",
    "  print(\"At least one of the conditions is True\")\n"
   ]
  },
  {
   "cell_type": "code",
   "execution_count": 7,
   "metadata": {
    "colab": {
     "base_uri": "https://localhost:8080/",
     "height": 51
    },
    "colab_type": "code",
    "collapsed": false,
    "deletable": true,
    "editable": true,
    "id": "p4xKrUgbpbrV",
    "outputId": "5cbf0661-47d5-409d-8ce9-683d38a730aa"
   },
   "outputs": [
    {
     "name": "stdout",
     "output_type": "stream",
     "text": [
      "Above ten,\n",
      "and also above 20!\n"
     ]
    }
   ],
   "source": [
    "# Nested If\n",
    "# You can have if statements \n",
    "# inside if statements, this is called nested if statements.\n",
    "x = 41\n",
    "\n",
    "if x > 10:\n",
    "  print(\"Above ten,\")\n",
    "  if x > 20:\n",
    "    print(\"and also above 20!\")\n",
    "  else:\n",
    "    print(\"but not above 20.\")"
   ]
  },
  {
   "cell_type": "markdown",
   "metadata": {},
   "source": [
    "## Python Loops\n",
    "Python has two primitive loop commands:\n",
    "\n",
    "* while loops\n",
    "* for loops"
   ]
  },
  {
   "cell_type": "markdown",
   "metadata": {
    "colab_type": "text",
    "deletable": true,
    "editable": true,
    "id": "pLWmBquUpqaf"
   },
   "source": [
    "## For Loop\n",
    "A for loop is used for iterating over a sequence (that is either a list, a tuple, a dictionary, a set, or a string).\n",
    "\n",
    "This is less like the for keyword in other programming languages, and works more like an iterator method as found in other object-orientated programming languages.\n",
    "\n",
    "With the for loop we can execute a set of statements, once for each item in a list, tuple, set etc."
   ]
  },
  {
   "cell_type": "code",
   "execution_count": 8,
   "metadata": {
    "colab": {
     "base_uri": "https://localhost:8080/",
     "height": 85
    },
    "colab_type": "code",
    "collapsed": false,
    "deletable": true,
    "editable": true,
    "id": "ku80qRHZpwaF",
    "outputId": "bf313341-eb62-4370-aae5-142b0a58fdf0"
   },
   "outputs": [
    {
     "name": "stdout",
     "output_type": "stream",
     "text": [
      "freshmen\n",
      "Sophomore\n",
      "Junior\n",
      "Senior\n"
     ]
    }
   ],
   "source": [
    "# Print each student in a students list:\n",
    "students = [\"freshmen\", \"Sophomore\", \"Junior\", \"Senior\"]\n",
    "for x in students:\n",
    "  print(x)"
   ]
  },
  {
   "cell_type": "code",
   "execution_count": 10,
   "metadata": {
    "colab": {
     "base_uri": "https://localhost:8080/",
     "height": 119
    },
    "colab_type": "code",
    "collapsed": false,
    "deletable": true,
    "editable": true,
    "id": "3L-rAfAnp8Kn",
    "outputId": "e97184ae-4140-4f21-9986-d1d15bd119b1"
   },
   "outputs": [
    {
     "name": "stdout",
     "output_type": "stream",
     "text": [
      "S\n",
      "e\n",
      "n\n",
      "i\n",
      "o\n",
      "r\n"
     ]
    }
   ],
   "source": [
    "# Looping Through a String\n",
    "# Even strings are iterable objects, they contain a sequence of characters:\n",
    "for x in \"Senior\":\n",
    "  print(x)"
   ]
  },
  {
   "cell_type": "code",
   "execution_count": 16,
   "metadata": {
    "colab": {
     "base_uri": "https://localhost:8080/",
     "height": 34
    },
    "colab_type": "code",
    "collapsed": false,
    "deletable": true,
    "editable": true,
    "id": "tpBR_gdRp_Sc",
    "outputId": "ba2b2ed6-be8e-4048-8f14-0913c596be37"
   },
   "outputs": [
    {
     "name": "stdout",
     "output_type": "stream",
     "text": [
      "freshmen\n"
     ]
    }
   ],
   "source": [
    "# The break Statement\n",
    "# With the break statement we can stop the loop \n",
    "# before it has looped through all the items.\n",
    "\n",
    "# Exit the loop when x is \"Sophomore\"\n",
    "students = [\"freshmen\", \"Sophomore\", \"Junior\", \"Senior\"]\n",
    "for x in students:\n",
    "  if x == \"Sophomore\":\n",
    "    break\n",
    "  print(x)\n",
    "# Question: why it only prints \"freshmen\" out?"
   ]
  },
  {
   "cell_type": "code",
   "execution_count": 10,
   "metadata": {
    "colab": {
     "base_uri": "https://localhost:8080/",
     "height": 68
    },
    "colab_type": "code",
    "collapsed": false,
    "deletable": true,
    "editable": true,
    "id": "n4Pm-DQeqXJh",
    "outputId": "75675b5f-ec2d-42e6-d9d9-8de6cad9cd97"
   },
   "outputs": [
    {
     "name": "stdout",
     "output_type": "stream",
     "text": [
      "freshmen\n",
      "Junior\n",
      "Senior\n"
     ]
    }
   ],
   "source": [
    "# The continue Statement\n",
    "# With the continue statement we can stop the \n",
    "# current iteration of the loop, and continue with the next.\n",
    "# Do not print \"Sophomore\"\n",
    "students = [\"freshmen\", \"Sophomore\", \"Junior\", \"Senior\"]\n",
    "for x in students:\n",
    "  if x == \"Sophomore\":\n",
    "    continue\n",
    "  print(x)"
   ]
  },
  {
   "cell_type": "code",
   "execution_count": 11,
   "metadata": {
    "colab": {
     "base_uri": "https://localhost:8080/",
     "height": 119
    },
    "colab_type": "code",
    "collapsed": false,
    "deletable": true,
    "editable": true,
    "id": "j5CUszzYqjx3",
    "outputId": "cc0a8eba-7afc-4b6e-db99-0437e6347065"
   },
   "outputs": [
    {
     "name": "stdout",
     "output_type": "stream",
     "text": [
      "0\n",
      "1\n",
      "2\n",
      "3\n",
      "4\n",
      "5\n"
     ]
    }
   ],
   "source": [
    "# The range() Function\n",
    "# To loop through a set of code a specified number of times, \n",
    "# we can use the range() function,\n",
    "# The range() function returns a sequence of numbers, \n",
    "# starting from 0 by default, and increments by 1 (by default), \n",
    "# and ends at a specified number.\n",
    "for x in range(6):\n",
    "  print(x)\n",
    "#Note that range(6) is no the values of 0 to 6, but the values 0 to 5."
   ]
  },
  {
   "cell_type": "code",
   "execution_count": 17,
   "metadata": {
    "colab": {
     "base_uri": "https://localhost:8080/",
     "height": 102
    },
    "colab_type": "code",
    "collapsed": false,
    "deletable": true,
    "editable": true,
    "id": "QS9afCEcrBQN",
    "outputId": "0b2b2637-14a1-4ba2-c4f3-c0723a146688"
   },
   "outputs": [
    {
     "name": "stdout",
     "output_type": "stream",
     "text": [
      "2\n",
      "6\n",
      "10\n",
      "14\n",
      "18\n"
     ]
    }
   ],
   "source": [
    "# you can also use a start number than the default 0\n",
    "# and/or set a step in the increase of numbers (default is 1)\n",
    "for x in range(2,20,4): # 2 is the start number\n",
    "                        # 20 is the end number (no more than this number)\n",
    "                        # 4 is the increase step\n",
    "      print(x)"
   ]
  },
  {
   "cell_type": "code",
   "execution_count": 13,
   "metadata": {
    "colab": {
     "base_uri": "https://localhost:8080/",
     "height": 170
    },
    "colab_type": "code",
    "collapsed": false,
    "deletable": true,
    "editable": true,
    "id": "9ao731HHrXlu",
    "outputId": "e786e056-55eb-4452-8da0-447bebefdac7"
   },
   "outputs": [
    {
     "name": "stdout",
     "output_type": "stream",
     "text": [
      "a 1\n",
      "a 2\n",
      "a 3\n",
      "b 1\n",
      "b 2\n",
      "b 3\n",
      "c 1\n",
      "c 2\n",
      "c 3\n"
     ]
    }
   ],
   "source": [
    "# Nested Loops\n",
    "# A nested loop is a loop inside a loop.\n",
    "\n",
    "# The \"inner loop\" will be executed one time \n",
    "# for each iteration of the \"outer loop\"\n",
    "\n",
    "adj = [\"a\", \"b\", \"c\"]\n",
    "fruits = [1,2,3]\n",
    "\n",
    "for x in adj:\n",
    "  for y in fruits:\n",
    "    print(x, y)"
   ]
  },
  {
   "cell_type": "markdown",
   "metadata": {
    "colab_type": "text",
    "deletable": true,
    "editable": true,
    "id": "mQVEt3VMruxq"
   },
   "source": [
    "## While loop\n",
    "\n",
    "With the while loop we can execute a set of statements as long as a condition is true."
   ]
  },
  {
   "cell_type": "code",
   "execution_count": 14,
   "metadata": {
    "colab": {
     "base_uri": "https://localhost:8080/",
     "height": 102
    },
    "colab_type": "code",
    "collapsed": false,
    "deletable": true,
    "editable": true,
    "id": "jQD9mEfPr26A",
    "outputId": "03ac7226-c6fe-440a-a1a9-570251b8eb41"
   },
   "outputs": [
    {
     "name": "stdout",
     "output_type": "stream",
     "text": [
      "1\n",
      "2\n",
      "3\n",
      "4\n",
      "5\n"
     ]
    }
   ],
   "source": [
    "# print i as long as i is less than 5:\n",
    "i = 1\n",
    "while i < 6:\n",
    "  print(i)\n",
    "  i += 1"
   ]
  },
  {
   "cell_type": "code",
   "execution_count": 26,
   "metadata": {
    "colab": {
     "base_uri": "https://localhost:8080/",
     "height": 119
    },
    "colab_type": "code",
    "collapsed": false,
    "deletable": true,
    "editable": true,
    "id": "UZON5SeasDRh",
    "outputId": "f99f87b8-c8a8-4506-a57a-36386f9f651a"
   },
   "outputs": [
    {
     "name": "stdout",
     "output_type": "stream",
     "text": [
      "1\n",
      "2\n",
      "3\n",
      "4\n"
     ]
    }
   ],
   "source": [
    "# While loop support the same \"break\" and \"continue\" statement\n",
    "# as for loop\n",
    "i = 1\n",
    "while i < 6:\n",
    "  if i == 5:\n",
    "    break\n",
    "  print(i)\n",
    "  i += 1"
   ]
  },
  {
   "cell_type": "markdown",
   "metadata": {
    "colab_type": "text",
    "deletable": true,
    "editable": true,
    "id": "NH4pwaDxsPAb"
   },
   "source": [
    "## Function\n",
    "A function is a block of code which only runs when it is called.\n",
    "\n",
    "You can pass data, known as parameters, into a function.\n",
    "\n",
    "A function can return data as a result.\n",
    "\n",
    "In Python a function is defined using the def keyword:\n"
   ]
  },
  {
   "cell_type": "code",
   "execution_count": 30,
   "metadata": {
    "colab": {},
    "colab_type": "code",
    "collapsed": true,
    "deletable": true,
    "editable": true,
    "id": "eB4JeqATsaMT"
   },
   "outputs": [],
   "source": [
    "# how to define a function.\n",
    "# the function will not be executed before you call it\n",
    "# function can have one or more parameters\n",
    "def testFunction(a):\n",
    "  if a > 3:\n",
    "    print(\"Hello World\")  \n",
    "  else:\n",
    "    print(\"Hello, \", a)"
   ]
  },
  {
   "cell_type": "code",
   "execution_count": 31,
   "metadata": {
    "colab": {
     "base_uri": "https://localhost:8080/",
     "height": 34
    },
    "colab_type": "code",
    "collapsed": false,
    "deletable": true,
    "editable": true,
    "id": "LGDXgs55smcq",
    "outputId": "a0db8723-c693-424e-e9e4-2e95b41b3276"
   },
   "outputs": [
    {
     "name": "stdout",
     "output_type": "stream",
     "text": [
      "Hello,  2\n"
     ]
    }
   ],
   "source": [
    "# calling the function to run all statements within the function\n",
    "testFunction(2)"
   ]
  },
  {
   "cell_type": "code",
   "execution_count": 32,
   "metadata": {
    "colab": {
     "base_uri": "https://localhost:8080/",
     "height": 34
    },
    "colab_type": "code",
    "collapsed": false,
    "deletable": true,
    "editable": true,
    "id": "NaFyXrNfsrYY",
    "outputId": "cd787954-749b-4561-b917-72e7d0b593bd"
   },
   "outputs": [
    {
     "name": "stdout",
     "output_type": "stream",
     "text": [
      "Hello World\n"
     ]
    }
   ],
   "source": [
    "testFunction(4)"
   ]
  },
  {
   "cell_type": "code",
   "execution_count": 33,
   "metadata": {
    "colab": {
     "base_uri": "https://localhost:8080/",
     "height": 85
    },
    "colab_type": "code",
    "collapsed": false,
    "deletable": true,
    "editable": true,
    "id": "NySoW6eIs7fG",
    "outputId": "64d5c155-6354-4ba6-b6ae-abadc04303ec"
   },
   "outputs": [
    {
     "name": "stdout",
     "output_type": "stream",
     "text": [
      "I am from China\n",
      "I am from India\n",
      "I am from UK\n",
      "I am from France\n"
     ]
    }
   ],
   "source": [
    "# Default Parameter Value\n",
    "\n",
    "# The following example shows how to use a default parameter value.\n",
    "\n",
    "# If we call the function without parameter, it uses the default value:\n",
    "\n",
    "def my_function(country = \"UK\"):\n",
    "  print(\"I am from \" + country)\n",
    "\n",
    "my_function(\"China\")\n",
    "my_function(\"India\")\n",
    "my_function() # default value \"UK\" is used\n",
    "my_function(\"France\")"
   ]
  },
  {
   "cell_type": "code",
   "execution_count": 34,
   "metadata": {
    "colab": {
     "base_uri": "https://localhost:8080/",
     "height": 51
    },
    "colab_type": "code",
    "collapsed": false,
    "deletable": true,
    "editable": true,
    "id": "xCwoxo09tJiz",
    "outputId": "e10d55d5-59f1-4ece-c776-795c996e7583"
   },
   "outputs": [
    {
     "name": "stdout",
     "output_type": "stream",
     "text": [
      "9\n",
      "25\n"
     ]
    }
   ],
   "source": [
    "# Return Values\n",
    "# To let a function return a value, use the return statement\n",
    "def square(x):\n",
    "  return x**2\n",
    "\n",
    "print(square(3))\n",
    "print(square(5))"
   ]
  },
  {
   "cell_type": "markdown",
   "metadata": {
    "colab_type": "text",
    "deletable": true,
    "editable": true,
    "id": "F5oPUd-atvPj"
   },
   "source": [
    "## Python modules\n",
    "random\n",
    "\n",
    "This module implements pseudo-random number generators for various distributions.\n",
    "\n",
    "https://docs.python.org/3/library/random.html"
   ]
  },
  {
   "cell_type": "code",
   "execution_count": 37,
   "metadata": {
    "colab": {
     "base_uri": "https://localhost:8080/",
     "height": 34
    },
    "colab_type": "code",
    "collapsed": false,
    "deletable": true,
    "editable": true,
    "id": "8wCiPmlLuIQQ",
    "outputId": "6801f284-8892-466d-97cd-222fb612f199"
   },
   "outputs": [
    {
     "data": {
      "text/plain": [
       "5"
      ]
     },
     "execution_count": 37,
     "metadata": {},
     "output_type": "execute_result"
    }
   ],
   "source": [
    "# you need to import a module before using it\n",
    "\n",
    "import random\n",
    "\n",
    "# random.randint(a, b)\n",
    "# Return a random integer N such that a <= N <= b. Alias for randrange(a, b+1).\n",
    "\n",
    "random.randint(1,5)\n",
    "\n",
    "#everytime you run, the value may be different"
   ]
  },
  {
   "cell_type": "code",
   "execution_count": 39,
   "metadata": {
    "colab": {
     "base_uri": "https://localhost:8080/",
     "height": 34
    },
    "colab_type": "code",
    "collapsed": false,
    "deletable": true,
    "editable": true,
    "id": "4ssmk5dauOKs",
    "outputId": "85868eaf-8501-4f77-ca12-e8514f35643e"
   },
   "outputs": [
    {
     "data": {
      "text/plain": [
       "0.616240716173682"
      ]
     },
     "execution_count": 39,
     "metadata": {},
     "output_type": "execute_result"
    }
   ],
   "source": [
    "import random\n",
    "\n",
    "# The random() function returns the next random floating point number in the range [0.0, 1.0).\n",
    "random.random()\n"
   ]
  }
 ],
 "metadata": {
  "colab": {
   "collapsed_sections": [],
   "include_colab_link": true,
   "name": "Lecture1b.ipynb",
   "provenance": [],
   "toc_visible": true
  },
  "kernelspec": {
   "display_name": "Python 3",
   "language": "python",
   "name": "python3"
  },
  "language_info": {
   "codemirror_mode": {
    "name": "ipython",
    "version": 3
   },
   "file_extension": ".py",
   "mimetype": "text/x-python",
   "name": "python",
   "nbconvert_exporter": "python",
   "pygments_lexer": "ipython3",
   "version": "3.6.8"
  }
 },
 "nbformat": 4,
 "nbformat_minor": 0
}
