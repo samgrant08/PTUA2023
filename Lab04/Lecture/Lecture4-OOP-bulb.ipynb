{
 "cells": [
  {
   "cell_type": "markdown",
   "metadata": {},
   "source": [
    "# PTUA-Lecture 4 Object Oriented Programming"
   ]
  },
  {
   "cell_type": "markdown",
   "metadata": {},
   "source": [
    "Two types of Python programs you have done\n",
    "- Procedural: The program moves through a linear series of instructions.\n",
    "- Functional: The program moves from one function to another."
   ]
  },
  {
   "cell_type": "code",
   "execution_count": 1,
   "metadata": {},
   "outputs": [
    {
     "name": "stdout",
     "output_type": "stream",
     "text": [
      "freshmen\n",
      "Sophomore\n",
      "Junior\n",
      "Senior\n"
     ]
    }
   ],
   "source": [
    "# Procedural programming\n",
    "# Print each student in a students list:\n",
    "students = [\"freshmen\", \"Sophomore\", \"Junior\", \"Senior\"]\n",
    "for x in students:\n",
    "  print(x)"
   ]
  },
  {
   "cell_type": "code",
   "execution_count": 2,
   "metadata": {},
   "outputs": [
    {
     "name": "stdout",
     "output_type": "stream",
     "text": [
      "9\n"
     ]
    }
   ],
   "source": [
    "# Functional programming\n",
    "\n",
    "def square(x=10):\n",
    "  return x*x\n",
    "\n",
    "print(square(3))"
   ]
  },
  {
   "cell_type": "markdown",
   "metadata": {
    "deletable": true,
    "editable": true
   },
   "source": [
    "You have used random module in the last session. Recall how to call libraries - packages/modules written by others."
   ]
  },
  {
   "cell_type": "code",
   "execution_count": 4,
   "metadata": {
    "collapsed": false,
    "deletable": true,
    "editable": true,
    "jupyter": {
     "outputs_hidden": false
    }
   },
   "outputs": [
    {
     "data": {
      "text/plain": [
       "(2, 0.12527109503879053)"
      ]
     },
     "execution_count": 4,
     "metadata": {},
     "output_type": "execute_result"
    }
   ],
   "source": [
    "import random\n",
    "rand_int=random.randint(1,5)\n",
    "rand_flt=random.random()\n",
    "rand_int,rand_flt"
   ]
  },
  {
   "cell_type": "markdown",
   "metadata": {},
   "source": [
    "Out of curiosity, what’s **inside** of random module? How we acutally ask the computers to generate random numbers?\n",
    "\n",
    "Luckily, unlike other similar commercial software such as Matlab, we can see the source code of random module directly: https://github.com/python/cpython/blob/main/Lib/random.py\n",
    "\n",
    "If this is your first time to see the real source code, you may feel it is a bit difficult to understand, with many functions in the python script under **Class** \"random\".\n",
    "\n",
    "### So this random module has been written by object-oriented programming(OOP). "
   ]
  },
  {
   "cell_type": "markdown",
   "metadata": {},
   "source": [
    "Then, what is OOP? \n",
    "\n",
    "Object-oriented programming (OOP) is a programming language model that organizes software design around **data**, or **objects**, rather than functions and logic. An object can be defined as a data field that has unique attributes and behavior.  \n"
   ]
  },
  {
   "cell_type": "markdown",
   "metadata": {},
   "source": [
    "### Why we need to use OOP?"
   ]
  },
  {
   "cell_type": "markdown",
   "metadata": {},
   "source": [
    "A real-world example:\n",
    "- Let’s consider a physical object: a light bulb. A light (usually) has two possible states: on and off. \n",
    "- It also has functionality that allows you to change its state: you can turn it on and you can turn it off. \n",
    "- Thankfully, you don’t need to know electrical engineering to use the light! You only need to know how to interact with it."
   ]
  },
  {
   "cell_type": "markdown",
   "metadata": {},
   "source": [
    "### Same as the light bulb, we do not always need to know the details of a specific module "
   ]
  },
  {
   "cell_type": "markdown",
   "metadata": {},
   "source": [
    "- Object-oriented programming (OOP) is a programming paradigm that allows you to package together data states and functionality to modify those data states, **while keeping the details hidden away** (like with the lightbulb). \n",
    "- As a result, code with OOP design is flexible, modular, and abstract. This makes it particularly useful when you create **larger programs**."
   ]
  },
  {
   "cell_type": "markdown",
   "metadata": {},
   "source": [
    "### Four major benefits of OOP"
   ]
  },
  {
   "cell_type": "markdown",
   "metadata": {},
   "source": [
    "- **Encapsulation**: in OOP, you bundle code into a single unit where you can determine the scope of each piece of data.\n",
    "- **Abstraction**: by using classes, you are able to generalize your object types, **simplifying** your program.\n",
    "- **Inheritance**: because a class can inherit attributes and behaviors from another class, you are able to **reuse** more code.\n",
    "- **Polymorphism**: one class can be used to create many objects, all from the same flexible piece of code.\n"
   ]
  },
  {
   "cell_type": "markdown",
   "metadata": {
    "deletable": true,
    "editable": true
   },
   "source": [
    "### Let's look at a real example of OOP"
   ]
  },
  {
   "cell_type": "markdown",
   "metadata": {
    "deletable": true,
    "editable": true
   },
   "source": [
    "Procedural vs Functional vs OOP to turn on/off the light bulb"
   ]
  },
  {
   "cell_type": "markdown",
   "metadata": {},
   "source": [
    "- Procedural"
   ]
  },
  {
   "cell_type": "code",
   "execution_count": 15,
   "metadata": {
    "collapsed": false,
    "deletable": true,
    "editable": true,
    "jupyter": {
     "outputs_hidden": false
    }
   },
   "outputs": [
    {
     "name": "stdout",
     "output_type": "stream",
     "text": [
      "True\n",
      "False\n",
      "True\n"
     ]
    }
   ],
   "source": [
    "b1_status=True\n",
    "print(b1_status)\n",
    "b1_status=False\n",
    "print(b1_status)\n",
    "b1_status=True\n",
    "print(b1_status)"
   ]
  },
  {
   "cell_type": "markdown",
   "metadata": {
    "deletable": true,
    "editable": true
   },
   "source": [
    "- Functional"
   ]
  },
  {
   "cell_type": "code",
   "execution_count": 17,
   "metadata": {
    "collapsed": false,
    "deletable": true,
    "editable": true,
    "jupyter": {
     "outputs_hidden": false
    }
   },
   "outputs": [
    {
     "name": "stdout",
     "output_type": "stream",
     "text": [
      "False\n",
      "True\n",
      "True\n",
      "False\n"
     ]
    }
   ],
   "source": [
    "# True: light on\n",
    "# Flase: light off\n",
    "\n",
    "def bulb_status(b):\n",
    "    if b==True:\n",
    "        return(False)\n",
    "    if b==False:\n",
    "        return(True)\n",
    "bulb1=False\n",
    "print(bulb1)\n",
    "print(bulb_status(bulb1))\n",
    "\n",
    "bulb2=True\n",
    "print(bulb2)\n",
    "print(bulb_status(bulb2))\n"
   ]
  },
  {
   "cell_type": "markdown",
   "metadata": {},
   "source": [
    "- OOP"
   ]
  },
  {
   "cell_type": "markdown",
   "metadata": {
    "deletable": true,
    "editable": true
   },
   "source": [
    "Using module concept, we transform the code into the following logic. A light bulb object has a switch, we can turn it on. we also can report it's status. \n",
    "\n",
    "Note the main() function to \n",
    "- (a) instaintiate a light bulb object \n",
    "- (b) call the method to turn it on etc. \n",
    "\n",
    "ALSO,  the __name__ variable tells python shell the execution point. With this stucture, if we copy this cell to a .py file, you can execute it as a standalone python file."
   ]
  },
  {
   "cell_type": "code",
   "execution_count": 22,
   "metadata": {
    "collapsed": false,
    "deletable": true,
    "editable": true,
    "jupyter": {
     "outputs_hidden": false
    }
   },
   "outputs": [],
   "source": [
    "class bulb():\n",
    "    \n",
    "    'here is a test of defining bulb'\n",
    "def print_onoff(b):\n",
    "    if b.status==True:\n",
    "        print ('this bulb is on')\n",
    "    else:\n",
    "        print ('this bulb is off')\n",
    "\n",
    "def bulb_switch_on(b):\n",
    "\n",
    "    if b.status==True:\n",
    "        pass\n",
    "    if  b.status==False:\n",
    "        b.status=True"
   ]
  },
  {
   "cell_type": "code",
   "execution_count": 24,
   "metadata": {},
   "outputs": [
    {
     "name": "stdout",
     "output_type": "stream",
     "text": [
      "__main__\n",
      "<class '__main__.bulb'>\n",
      "False\n",
      "this bulb is off\n",
      "True\n",
      "this bulb is on\n"
     ]
    }
   ],
   "source": [
    "def main():\n",
    "# b1 is a bulb object, so it will have 2 functions (print_onoff, bulb_switch_on) you can use.\n",
    "    b1=bulb()\n",
    "    print(type(b1))\n",
    "# set b1 as off\n",
    "    b1.status=False\n",
    "    print(b1.status)\n",
    "# show the current status\n",
    "    print_onoff(b1)\n",
    "# switch on the bulb\n",
    "    bulb_switch_on(b1)\n",
    "    print(b1.status)\n",
    "# show the current status\n",
    "    print_onoff(b1)\n",
    "\n",
    "if __name__=='__main__':\n",
    "    print (__name__)\n",
    "    main()"
   ]
  },
  {
   "cell_type": "markdown",
   "metadata": {
    "deletable": true,
    "editable": true
   },
   "source": [
    "The following structure make the module more clear. We use __init__ function to declare variables that are bulb's switch status (default is false i.e. off) and bulb_name. Note the indentation of the 'functions'. They are nested into the module and becomes the 'methods' of a bulb. Also, note the way any bulb referring to 'self'! "
   ]
  },
  {
   "cell_type": "code",
   "execution_count": 34,
   "metadata": {
    "collapsed": false,
    "deletable": true,
    "editable": true,
    "jupyter": {
     "outputs_hidden": false
    }
   },
   "outputs": [],
   "source": [
    "class bulb():\n",
    "    'here is a test of defining bulb'\n",
    "    def __init__(self, bulb_status=False,bulb_name='PTUA2023_bulb'):\n",
    "        self.status=bulb_status\n",
    "        self.bulb_name=bulb_name\n",
    "    \n",
    "    def print_onoff(self):\n",
    "#         print (__name__)\n",
    "\n",
    "        if self.status==True:\n",
    "            print ('this is %s. I am on'%self.bulb_name)\n",
    "        else:\n",
    "            print ('this is %s. I am off'%self.bulb_name)\n",
    "\n",
    "    def bulb_switch_on(self):\n",
    "\n",
    "        if self.status==True:\n",
    "            pass\n",
    "        if self.status==False:\n",
    "            self.status=True\n",
    "            \n",
    "    def bulb_switch_off(self):\n",
    "\n",
    "        if self.status==False:\n",
    "            pass\n",
    "        if self.status==True:\n",
    "            self.status=False"
   ]
  },
  {
   "cell_type": "code",
   "execution_count": 35,
   "metadata": {},
   "outputs": [
    {
     "name": "stdout",
     "output_type": "stream",
     "text": [
      "<class '__main__.bulb'>\n",
      "False\n",
      "PTUA2023_bulb\n"
     ]
    }
   ],
   "source": [
    "b1=bulb()\n",
    "print(type(b1))\n",
    "\n",
    "print(b1.status)\n",
    "print(b1.bulb_name)"
   ]
  },
  {
   "cell_type": "code",
   "execution_count": 38,
   "metadata": {},
   "outputs": [
    {
     "name": "stdout",
     "output_type": "stream",
     "text": [
      "True\n",
      "PTUA 2023 bulb2\n",
      "this is PTUA 2023 bulb2. I am on\n",
      "this is PTUA 2023 bulb2. I am off\n",
      "this is PTUA 2023 bulb2. I am on\n"
     ]
    }
   ],
   "source": [
    "b2=bulb(bulb_status=True,bulb_name='PTUA 2023 bulb2')\n",
    "\n",
    "print(b2.status)\n",
    "print(b2.bulb_name)\n",
    "\n",
    "# print current bulb status\n",
    "b2.print_onoff()\n",
    "\n",
    "# switch the bulb off\n",
    "b2.bulb_switch_off()\n",
    "b2.print_onoff()\n",
    "\n",
    "# switch the bulb on\n",
    "b2.bulb_switch_on()\n",
    "b2.print_onoff()\n"
   ]
  },
  {
   "cell_type": "markdown",
   "metadata": {
    "deletable": true,
    "editable": true
   },
   "source": [
    "The above way of defining a moduel can be imported just as previous 'random' library. Try to copy the class, store it as bulb.py file (**you will import the module with the same name**) in the same folder of your jupyter notebook. You can import the bulb module and instanticate it without worry about the details of defining it. "
   ]
  },
  {
   "cell_type": "code",
   "execution_count": 44,
   "metadata": {
    "collapsed": false,
    "deletable": true,
    "editable": true,
    "jupyter": {
     "outputs_hidden": false
    }
   },
   "outputs": [
    {
     "name": "stdout",
     "output_type": "stream",
     "text": [
      "__main__\n",
      "<bulb.bulb object at 0x7fda4605b820>\n",
      "False\n",
      "this is PTUA2023-b3. I am off\n",
      "this is PTUA2023-b3. I am on\n",
      "this is PTUA2023-b3. I am off\n"
     ]
    }
   ],
   "source": [
    "#from importlib import reload\n",
    "import bulb\n",
    "#reload(bulb)\n",
    "\n",
    "print(__name__)\n",
    "b3=bulb.bulb(bulb_name='PTUA2023-b3')\n",
    "print(b3)\n",
    "print(b3.status)\n",
    "b3.print_onoff()\n",
    "\n",
    "b3.bulb_switch_on()\n",
    "b3.print_onoff()\n",
    "\n",
    "b3.bulb_switch_off()\n",
    "b3.print_onoff()"
   ]
  },
  {
   "cell_type": "code",
   "execution_count": null,
   "metadata": {},
   "outputs": [],
   "source": []
  }
 ],
 "metadata": {
  "kernelspec": {
   "display_name": "Python 3",
   "language": "python",
   "name": "python3"
  },
  "language_info": {
   "codemirror_mode": {
    "name": "ipython",
    "version": 3
   },
   "file_extension": ".py",
   "mimetype": "text/x-python",
   "name": "python",
   "nbconvert_exporter": "python",
   "pygments_lexer": "ipython3",
   "version": "3.8.8"
  }
 },
 "nbformat": 4,
 "nbformat_minor": 4
}
