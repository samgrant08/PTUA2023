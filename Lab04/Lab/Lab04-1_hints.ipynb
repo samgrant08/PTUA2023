{
 "cells": [
  {
   "cell_type": "code",
   "execution_count": 1,
   "metadata": {
    "collapsed": false,
    "deletable": true,
    "editable": true,
    "jupyter": {
     "outputs_hidden": false
    }
   },
   "outputs": [],
   "source": [
    "import random"
   ]
  },
  {
   "cell_type": "code",
   "execution_count": 2,
   "metadata": {
    "collapsed": false,
    "deletable": true,
    "editable": true,
    "jupyter": {
     "outputs_hidden": false
    }
   },
   "outputs": [],
   "source": [
    "m = [random.randint(1,11) for i in range(20) ]"
   ]
  },
  {
   "cell_type": "code",
   "execution_count": 3,
   "metadata": {
    "collapsed": false,
    "deletable": true,
    "editable": true,
    "jupyter": {
     "outputs_hidden": false
    }
   },
   "outputs": [
    {
     "data": {
      "text/plain": [
       "[9, 9, 7, 3, 9, 8, 7, 1, 5, 7, 3, 4, 10, 8, 4, 1, 7, 4, 9, 2]"
      ]
     },
     "execution_count": 3,
     "metadata": {},
     "output_type": "execute_result"
    }
   ],
   "source": [
    "m"
   ]
  },
  {
   "cell_type": "code",
   "execution_count": 4,
   "metadata": {
    "collapsed": false,
    "deletable": true,
    "editable": true,
    "jupyter": {
     "outputs_hidden": false
    }
   },
   "outputs": [],
   "source": [
    "sm = set(m)"
   ]
  },
  {
   "cell_type": "code",
   "execution_count": 5,
   "metadata": {
    "collapsed": false,
    "deletable": true,
    "editable": true,
    "jupyter": {
     "outputs_hidden": false
    }
   },
   "outputs": [
    {
     "data": {
      "text/plain": [
       "{1, 2, 3, 4, 5, 7, 8, 9, 10}"
      ]
     },
     "execution_count": 5,
     "metadata": {},
     "output_type": "execute_result"
    }
   ],
   "source": [
    "sm"
   ]
  },
  {
   "cell_type": "code",
   "execution_count": 7,
   "metadata": {
    "collapsed": false,
    "deletable": true,
    "editable": true,
    "jupyter": {
     "outputs_hidden": false
    }
   },
   "outputs": [
    {
     "name": "stdout",
     "output_type": "stream",
     "text": [
      "1 2\n",
      "2 1\n",
      "3 2\n",
      "4 3\n",
      "5 1\n",
      "7 4\n",
      "8 2\n",
      "9 4\n",
      "10 1\n"
     ]
    }
   ],
   "source": [
    "for val in sm:\n",
    "    print(val, m.count(val))"
   ]
  },
  {
   "cell_type": "code",
   "execution_count": 9,
   "metadata": {
    "collapsed": false,
    "deletable": true,
    "editable": true,
    "jupyter": {
     "outputs_hidden": false
    }
   },
   "outputs": [
    {
     "name": "stdout",
     "output_type": "stream",
     "text": [
      "0 9\n",
      "1 9\n",
      "2 7\n",
      "3 3\n",
      "4 9\n",
      "5 8\n",
      "6 7\n",
      "7 1\n",
      "8 5\n",
      "9 7\n",
      "10 3\n",
      "11 4\n",
      "12 10\n",
      "13 8\n",
      "14 4\n",
      "15 1\n",
      "16 7\n",
      "17 4\n",
      "18 9\n",
      "19 2\n"
     ]
    }
   ],
   "source": [
    "h = {}\n",
    "for i,val in enumerate(m):\n",
    "    if val not in h:\n",
    "        h[val] = []\n",
    "    h[val].append(i)\n",
    "    print(i, val)"
   ]
  },
  {
   "cell_type": "code",
   "execution_count": 10,
   "metadata": {
    "collapsed": false,
    "deletable": true,
    "editable": true,
    "jupyter": {
     "outputs_hidden": false
    }
   },
   "outputs": [
    {
     "data": {
      "text/plain": [
       "{9: [0, 1, 4, 18],\n",
       " 7: [2, 6, 9, 16],\n",
       " 3: [3, 10],\n",
       " 8: [5, 13],\n",
       " 1: [7, 15],\n",
       " 5: [8],\n",
       " 4: [11, 14, 17],\n",
       " 10: [12],\n",
       " 2: [19]}"
      ]
     },
     "execution_count": 10,
     "metadata": {},
     "output_type": "execute_result"
    }
   ],
   "source": [
    "h"
   ]
  },
  {
   "cell_type": "code",
   "execution_count": 11,
   "metadata": {
    "collapsed": false,
    "deletable": true,
    "editable": true,
    "jupyter": {
     "outputs_hidden": false
    }
   },
   "outputs": [],
   "source": [
    "w = {}\n",
    "w['a'] = ['b', 'c']\n",
    "w['b'] = ['a', 'c', 'd']\n",
    "w['c'] = ['a', 'b', 'd']\n",
    "w['d'] = ['a', 'b', 'c']"
   ]
  },
  {
   "cell_type": "code",
   "execution_count": 12,
   "metadata": {
    "collapsed": false,
    "deletable": true,
    "editable": true,
    "jupyter": {
     "outputs_hidden": false
    }
   },
   "outputs": [
    {
     "data": {
      "text/plain": [
       "{'a': ['b', 'c'],\n",
       " 'b': ['a', 'c', 'd'],\n",
       " 'c': ['a', 'b', 'd'],\n",
       " 'd': ['a', 'b', 'c']}"
      ]
     },
     "execution_count": 12,
     "metadata": {},
     "output_type": "execute_result"
    }
   ],
   "source": [
    "w\n"
   ]
  },
  {
   "cell_type": "code",
   "execution_count": 16,
   "metadata": {
    "collapsed": false,
    "deletable": true,
    "editable": true,
    "jupyter": {
     "outputs_hidden": false
    }
   },
   "outputs": [
    {
     "name": "stdout",
     "output_type": "stream",
     "text": [
      "a ['b', 'c']\n",
      "a  says  b is a neighbor\n",
      "ok\n",
      "a  says  c is a neighbor\n",
      "ok\n",
      "b ['a', 'c', 'd']\n",
      "b  says  a is a neighbor\n",
      "ok\n",
      "b  says  c is a neighbor\n",
      "ok\n",
      "b  says  d is a neighbor\n",
      "ok\n",
      "c ['a', 'b', 'd']\n",
      "c  says  a is a neighbor\n",
      "ok\n",
      "c  says  b is a neighbor\n",
      "ok\n",
      "c  says  d is a neighbor\n",
      "ok\n",
      "d ['a', 'b', 'c']\n",
      "d  says  a is a neighbor\n",
      "not ok\n",
      "because  a  says that  d is not a neighbor\n",
      "d  says  b is a neighbor\n",
      "ok\n",
      "d  says  c is a neighbor\n",
      "ok\n"
     ]
    }
   ],
   "source": [
    "for key in w:\n",
    "    print(key, w[key])\n",
    "    for neighbor in w[key]:\n",
    "        print(key,' says ',neighbor, 'is a neighbor')\n",
    "        if key in w[neighbor]:\n",
    "            print('ok')\n",
    "        else:\n",
    "            print('not ok')\n",
    "            print('because ', neighbor, ' says that ', key, 'is not a neighbor')\n",
    "        "
   ]
  },
  {
   "cell_type": "code",
   "execution_count": 17,
   "metadata": {
    "collapsed": false,
    "deletable": true,
    "editable": true,
    "jupyter": {
     "outputs_hidden": false
    }
   },
   "outputs": [
    {
     "data": {
      "text/plain": [
       "['b', 'c']"
      ]
     },
     "execution_count": 17,
     "metadata": {},
     "output_type": "execute_result"
    }
   ],
   "source": [
    "w['a']"
   ]
  },
  {
   "cell_type": "code",
   "execution_count": 18,
   "metadata": {
    "collapsed": false,
    "deletable": true,
    "editable": true,
    "jupyter": {
     "outputs_hidden": false
    }
   },
   "outputs": [
    {
     "data": {
      "text/plain": [
       "['a', 'b', 'd']"
      ]
     },
     "execution_count": 18,
     "metadata": {},
     "output_type": "execute_result"
    }
   ],
   "source": [
    "w['c']"
   ]
  },
  {
   "cell_type": "code",
   "execution_count": null,
   "metadata": {},
   "outputs": [],
   "source": []
  }
 ],
 "metadata": {
  "kernelspec": {
   "display_name": "Python 3",
   "language": "python",
   "name": "python3"
  },
  "language_info": {
   "codemirror_mode": {
    "name": "ipython",
    "version": 3
   },
   "file_extension": ".py",
   "mimetype": "text/x-python",
   "name": "python",
   "nbconvert_exporter": "python",
   "pygments_lexer": "ipython3",
   "version": "3.7.6"
  }
 },
 "nbformat": 4,
 "nbformat_minor": 4
}
