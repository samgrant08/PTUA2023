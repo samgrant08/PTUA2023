{
 "cells": [
  {
   "cell_type": "code",
   "execution_count": 1,
   "metadata": {
    "collapsed": false,
    "deletable": true,
    "editable": true
   },
   "outputs": [],
   "source": [
    "import random\n"
   ]
  },
  {
   "cell_type": "code",
   "execution_count": 2,
   "metadata": {
    "collapsed": false,
    "deletable": true,
    "editable": true
   },
   "outputs": [],
   "source": [
    "m = [ random.randint(1,11) for i in range(20) ]"
   ]
  },
  {
   "cell_type": "code",
   "execution_count": 3,
   "metadata": {
    "collapsed": false,
    "deletable": true,
    "editable": true
   },
   "outputs": [
    {
     "data": {
      "text/plain": [
       "[1, 9, 8, 10, 8, 3, 11, 2, 5, 9, 11, 9, 1, 11, 4, 4, 10, 4, 5, 5]"
      ]
     },
     "execution_count": 3,
     "metadata": {},
     "output_type": "execute_result"
    }
   ],
   "source": [
    "m"
   ]
  },
  {
   "cell_type": "code",
   "execution_count": 4,
   "metadata": {
    "collapsed": false,
    "deletable": true,
    "editable": true
   },
   "outputs": [],
   "source": [
    "sm = set(m)"
   ]
  },
  {
   "cell_type": "code",
   "execution_count": 5,
   "metadata": {
    "collapsed": false,
    "deletable": true,
    "editable": true
   },
   "outputs": [
    {
     "data": {
      "text/plain": [
       "{1, 2, 3, 4, 5, 8, 9, 10, 11}"
      ]
     },
     "execution_count": 5,
     "metadata": {},
     "output_type": "execute_result"
    }
   ],
   "source": [
    "sm"
   ]
  },
  {
   "cell_type": "code",
   "execution_count": 6,
   "metadata": {
    "collapsed": false,
    "deletable": true,
    "editable": true
   },
   "outputs": [
    {
     "name": "stdout",
     "output_type": "stream",
     "text": [
      "1 2\n",
      "2 1\n",
      "3 1\n",
      "4 3\n",
      "5 3\n",
      "8 2\n",
      "9 3\n",
      "10 2\n",
      "11 3\n"
     ]
    }
   ],
   "source": [
    "for val in sm:\n",
    "    print val, m.count(val)"
   ]
  },
  {
   "cell_type": "code",
   "execution_count": 8,
   "metadata": {
    "collapsed": false,
    "deletable": true,
    "editable": true
   },
   "outputs": [
    {
     "name": "stdout",
     "output_type": "stream",
     "text": [
      "0 1\n",
      "1 9\n",
      "2 8\n",
      "3 10\n",
      "4 8\n",
      "5 3\n",
      "6 11\n",
      "7 2\n",
      "8 5\n",
      "9 9\n",
      "10 11\n",
      "11 9\n",
      "12 1\n",
      "13 11\n",
      "14 4\n",
      "15 4\n",
      "16 10\n",
      "17 4\n",
      "18 5\n",
      "19 5\n"
     ]
    }
   ],
   "source": [
    "h = {}\n",
    "for i,val in enumerate(m):\n",
    "    if val not in h:\n",
    "        h[val] = []\n",
    "    h[val].append(i)\n",
    "    print i, val"
   ]
  },
  {
   "cell_type": "code",
   "execution_count": 9,
   "metadata": {
    "collapsed": false,
    "deletable": true,
    "editable": true
   },
   "outputs": [
    {
     "data": {
      "text/plain": [
       "{1: [0, 12],\n",
       " 2: [7],\n",
       " 3: [5],\n",
       " 4: [14, 15, 17],\n",
       " 5: [8, 18, 19],\n",
       " 8: [2, 4],\n",
       " 9: [1, 9, 11],\n",
       " 10: [3, 16],\n",
       " 11: [6, 10, 13]}"
      ]
     },
     "execution_count": 9,
     "metadata": {},
     "output_type": "execute_result"
    }
   ],
   "source": [
    "h"
   ]
  },
  {
   "cell_type": "code",
   "execution_count": 12,
   "metadata": {
    "collapsed": false,
    "deletable": true,
    "editable": true
   },
   "outputs": [],
   "source": [
    "w = {}\n",
    "w['a'] = ['b', 'c']\n",
    "w['b'] = ['a', 'c', 'd']\n",
    "w['c'] = ['a', 'b', 'd']\n",
    "w['d'] = ['a', 'b', 'c']"
   ]
  },
  {
   "cell_type": "code",
   "execution_count": 13,
   "metadata": {
    "collapsed": false,
    "deletable": true,
    "editable": true
   },
   "outputs": [
    {
     "data": {
      "text/plain": [
       "{'a': ['b', 'c'],\n",
       " 'b': ['a', 'c', 'd'],\n",
       " 'c': ['a', 'b', 'd'],\n",
       " 'd': ['a', 'b', 'c']}"
      ]
     },
     "execution_count": 13,
     "metadata": {},
     "output_type": "execute_result"
    }
   ],
   "source": [
    "w\n"
   ]
  },
  {
   "cell_type": "code",
   "execution_count": 22,
   "metadata": {
    "collapsed": false,
    "deletable": true,
    "editable": true
   },
   "outputs": [
    {
     "name": "stdout",
     "output_type": "stream",
     "text": [
      "a ['b', 'c']\n",
      "a  says  b is a neighbor\n",
      "ok\n",
      "a  says  c is a neighbor\n",
      "ok\n",
      "c ['a', 'b', 'd']\n",
      "c  says  a is a neighbor\n",
      "ok\n",
      "c  says  b is a neighbor\n",
      "ok\n",
      "c  says  d is a neighbor\n",
      "ok\n",
      "b ['a', 'c', 'd']\n",
      "b  says  a is a neighbor\n",
      "ok\n",
      "b  says  c is a neighbor\n",
      "ok\n",
      "b  says  d is a neighbor\n",
      "ok\n",
      "d ['a', 'b', 'c']\n",
      "d  says  a is a neighbor\n",
      "not ok\n",
      "because  a  says that  d is not a neighbor\n",
      "d  says  b is a neighbor\n",
      "ok\n",
      "d  says  c is a neighbor\n",
      "ok\n"
     ]
    }
   ],
   "source": [
    "for key in w:\n",
    "    print key, w[key]\n",
    "    for neighbor in w[key]:\n",
    "        print key,' says ',neighbor, 'is a neighbor'\n",
    "        if key in w[neighbor]:\n",
    "            print 'ok'\n",
    "        else:\n",
    "            print 'not ok'\n",
    "            print 'because ', neighbor, ' says that ', key, 'is not a neighbor'\n",
    "        "
   ]
  },
  {
   "cell_type": "code",
   "execution_count": 16,
   "metadata": {
    "collapsed": false,
    "deletable": true,
    "editable": true
   },
   "outputs": [
    {
     "data": {
      "text/plain": [
       "['b', 'c']"
      ]
     },
     "execution_count": 16,
     "metadata": {},
     "output_type": "execute_result"
    }
   ],
   "source": [
    "w['a']"
   ]
  },
  {
   "cell_type": "code",
   "execution_count": 17,
   "metadata": {
    "collapsed": false,
    "deletable": true,
    "editable": true
   },
   "outputs": [
    {
     "data": {
      "text/plain": [
       "['a', 'b', 'd']"
      ]
     },
     "execution_count": 17,
     "metadata": {},
     "output_type": "execute_result"
    }
   ],
   "source": [
    "w['c']"
   ]
  },
  {
   "cell_type": "code",
   "execution_count": null,
   "metadata": {
    "collapsed": false,
    "deletable": true,
    "editable": true
   },
   "outputs": [],
   "source": []
  }
 ],
 "metadata": {
  "kernelspec": {
   "display_name": "Python 2",
   "language": "python",
   "name": "python2"
  },
  "language_info": {
   "codemirror_mode": {
    "name": "ipython",
    "version": 2
   },
   "file_extension": ".py",
   "mimetype": "text/x-python",
   "name": "python",
   "nbconvert_exporter": "python",
   "pygments_lexer": "ipython2",
   "version": "2.7.13"
  }
 },
 "nbformat": 4,
 "nbformat_minor": 0
}
