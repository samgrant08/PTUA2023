{
 "cells": [
  {
   "cell_type": "markdown",
   "metadata": {},
   "source": [
    "# Word Count Calculator\n",
    "reference: https://github.com/datamics/jupyter-word-count/blob/master/count-jupyter-nb-words.py"
   ]
  },
  {
   "cell_type": "code",
   "execution_count": 1,
   "metadata": {},
   "outputs": [
    {
     "name": "stdout",
     "output_type": "stream",
     "text": [
      "./WordCount.ipynb\n",
      "33 Words in notebooks' markdown\n",
      "4 Words in notebooks' heading\n",
      "410 Words in notebooks' code\n",
      "\n"
     ]
    },
    {
     "name": "stderr",
     "output_type": "stream",
     "text": [
      "/Users/qszhao/opt/anaconda3/lib/python3.7/site-packages/nbformat/current.py:19: UserWarning: nbformat.current is deprecated.\n",
      "\n",
      "- use nbformat for read/write/validate public API\n",
      "- use nbformat.vX directly to composing notebooks of a particular version\n",
      "\n",
      "  \"\"\")\n"
     ]
    }
   ],
   "source": [
    "import io\n",
    "import os\n",
    "from nbformat import current\n",
    "\n",
    "total_markdown = 0\n",
    "total_heading = 0\n",
    "total_code = 0\n",
    "\n",
    "for root, dirs, files in os.walk(\".\"):\n",
    "    for file in files:\n",
    "        if file.endswith(\".ipynb\") and not file.endswith(\"checkpoint.ipynb\") :\n",
    "            print(os.path.join(root, file))\n",
    "            with io.open(os.path.join(root, file), 'r', encoding='utf-8') as f:\n",
    "                nb = current.read(f, 'json')\n",
    "\n",
    "            word_count_markdown = 0\n",
    "            word_count_heading = 0\n",
    "            word_count_code = 0\n",
    "            for cell in nb.worksheets[0].cells:\n",
    "                if cell.cell_type == \"markdown\":\n",
    "                    word_count_markdown += len(cell['source'].replace('#', '').lstrip().split(' '))\n",
    "                elif cell.cell_type == \"heading\":\n",
    "                    word_count_heading += len(cell['source'].replace('#', '').lstrip().split(' '))\n",
    "                elif cell.cell_type == \"code\":\n",
    "                    word_count_code += len(cell['input'].replace('#', '').lstrip().split(' '))\n",
    "            total_markdown += word_count_markdown\n",
    "            total_heading += word_count_heading\n",
    "            total_code += word_count_code\n",
    "            print(\"{} Words in notebooks' markdown\" .format(word_count_markdown))\n",
    "            print(\"{} Words in notebooks' heading\" .format(word_count_heading))\n",
    "            print(\"{} Words in notebooks' code\" .format(word_count_code))\n",
    "            print(\"\")\n",
    "\n",
    "#print(\"{} Words in notebooks' markdown\" .format(total_markdown))\n",
    "#print(\"{} Words in notebooks' heading\" .format(total_heading))\n",
    "#print(\"{} Words in notebooks' code\" .format(total_code))\n"
   ]
  },
  {
   "cell_type": "markdown",
   "metadata": {},
   "source": [
    "# Convert to HTML files"
   ]
  },
  {
   "cell_type": "code",
   "execution_count": 2,
   "metadata": {},
   "outputs": [
    {
     "name": "stdout",
     "output_type": "stream",
     "text": [
      "[NbConvertApp] Converting notebook WordCount.ipynb to html\n",
      "[NbConvertApp] Writing 286816 bytes to WordCount.html\n"
     ]
    }
   ],
   "source": [
    "!jupyter nbconvert WordCount.ipynb --to html "
   ]
  },
  {
   "cell_type": "markdown",
   "metadata": {},
   "source": [
    "# Convert to PDF files \n",
    "You will need to install nbconvert, mactex, xelatex, and pandoc.\n",
    "https://nbconvert.readthedocs.io/en/latest/install.html#installing-tex.\n",
    "\n",
    "You can also convert it to tex file then convert it through other latex editor. "
   ]
  },
  {
   "cell_type": "code",
   "execution_count": 3,
   "metadata": {},
   "outputs": [
    {
     "name": "stdout",
     "output_type": "stream",
     "text": [
      "[NbConvertApp] Converting notebook WordCount.ipynb to latex\n",
      "[NbConvertApp] Writing 31530 bytes to WordCount.tex\n"
     ]
    }
   ],
   "source": [
    "!jupyter nbconvert WordCount.ipynb --to latex"
   ]
  },
  {
   "cell_type": "code",
   "execution_count": 6,
   "metadata": {},
   "outputs": [
    {
     "name": "stdout",
     "output_type": "stream",
     "text": [
      "[NbConvertApp] Converting notebook WordCount.ipynb to pdf\n",
      "[NbConvertApp] Writing 28716 bytes to ./notebook.tex\n",
      "[NbConvertApp] Building PDF\n",
      "[NbConvertApp] Running xelatex 3 times: ['xelatex', './notebook.tex', '-quiet']\n",
      "[NbConvertApp] CRITICAL | xelatex failed: ['xelatex', './notebook.tex', '-quiet']\n",
      "This is XeTeX, Version 3.14159265-2.6-0.999991 (TeX Live 2019) (preloaded format=xelatex)\n",
      " restricted \\write18 enabled.\n",
      "entering extended mode\n",
      "(./notebook.tex\n",
      "LaTeX2e <2019-10-01>\n",
      "(/usr/local/texlive/2019basic/texmf-dist/tex/latex/base/article.cls\n",
      "Document Class: article 2019/08/27 v1.4j Standard LaTeX document class\n",
      "(/usr/local/texlive/2019basic/texmf-dist/tex/latex/base/size11.clo))\n",
      "\n",
      "! LaTeX Error: File `tcolorbox.sty' not found.\n",
      "\n",
      "Type X to quit or <RETURN> to proceed,\n",
      "or enter new name. (Default extension: sty)\n",
      "\n",
      "Enter file name: \n",
      "! Emergency stop.\n",
      "<read *> \n",
      "         \n",
      "l.4     \\usepackage\n",
      "                   {parskip} % Stop auto-indenting (to mimic markdown behavi...\n",
      "\n",
      "No pages of output.\n",
      "Transcript written on notebook.log.\n",
      "\n",
      "Traceback (most recent call last):\n",
      "  File \"/Users/qszhao/opt/anaconda3/bin/jupyter-nbconvert\", line 11, in <module>\n",
      "    sys.exit(main())\n",
      "  File \"/Users/qszhao/opt/anaconda3/lib/python3.7/site-packages/jupyter_core/application.py\", line 270, in launch_instance\n",
      "    return super(JupyterApp, cls).launch_instance(argv=argv, **kwargs)\n",
      "  File \"/Users/qszhao/opt/anaconda3/lib/python3.7/site-packages/traitlets/config/application.py\", line 664, in launch_instance\n",
      "    app.start()\n",
      "  File \"/Users/qszhao/opt/anaconda3/lib/python3.7/site-packages/nbconvert/nbconvertapp.py\", line 340, in start\n",
      "    self.convert_notebooks()\n",
      "  File \"/Users/qszhao/opt/anaconda3/lib/python3.7/site-packages/nbconvert/nbconvertapp.py\", line 510, in convert_notebooks\n",
      "    self.convert_single_notebook(notebook_filename)\n",
      "  File \"/Users/qszhao/opt/anaconda3/lib/python3.7/site-packages/nbconvert/nbconvertapp.py\", line 481, in convert_single_notebook\n",
      "    output, resources = self.export_single_notebook(notebook_filename, resources, input_buffer=input_buffer)\n",
      "  File \"/Users/qszhao/opt/anaconda3/lib/python3.7/site-packages/nbconvert/nbconvertapp.py\", line 410, in export_single_notebook\n",
      "    output, resources = self.exporter.from_filename(notebook_filename, resources=resources)\n",
      "  File \"/Users/qszhao/opt/anaconda3/lib/python3.7/site-packages/nbconvert/exporters/exporter.py\", line 179, in from_filename\n",
      "    return self.from_file(f, resources=resources, **kw)\n",
      "  File \"/Users/qszhao/opt/anaconda3/lib/python3.7/site-packages/nbconvert/exporters/exporter.py\", line 197, in from_file\n",
      "    return self.from_notebook_node(nbformat.read(file_stream, as_version=4), resources=resources, **kw)\n",
      "  File \"/Users/qszhao/opt/anaconda3/lib/python3.7/site-packages/nbconvert/exporters/pdf.py\", line 185, in from_notebook_node\n",
      "    self.run_latex(tex_file)\n",
      "  File \"/Users/qszhao/opt/anaconda3/lib/python3.7/site-packages/nbconvert/exporters/pdf.py\", line 156, in run_latex\n",
      "    self.latex_count, log_error, raise_on_failure)\n",
      "  File \"/Users/qszhao/opt/anaconda3/lib/python3.7/site-packages/nbconvert/exporters/pdf.py\", line 145, in run_command\n",
      "    command=command, output=out))\n",
      "nbconvert.exporters.pdf.LatexFailed: PDF creating failed, captured latex output:\n",
      "Failed to run \"['xelatex', './notebook.tex', '-quiet']\" command:\n",
      "This is XeTeX, Version 3.14159265-2.6-0.999991 (TeX Live 2019) (preloaded format=xelatex)\n",
      " restricted \\write18 enabled.\n",
      "entering extended mode\n",
      "(./notebook.tex\n",
      "LaTeX2e <2019-10-01>\n",
      "(/usr/local/texlive/2019basic/texmf-dist/tex/latex/base/article.cls\n",
      "Document Class: article 2019/08/27 v1.4j Standard LaTeX document class\n",
      "(/usr/local/texlive/2019basic/texmf-dist/tex/latex/base/size11.clo))\n",
      "\n",
      "! LaTeX Error: File `tcolorbox.sty' not found.\n",
      "\n",
      "Type X to quit or <RETURN> to proceed,\n",
      "or enter new name. (Default extension: sty)\n",
      "\n",
      "Enter file name: \n",
      "! Emergency stop.\n",
      "<read *> \n",
      "         \n",
      "l.4     \\usepackage\n",
      "                   {parskip} % Stop auto-indenting (to mimic markdown behavi...\n",
      "\n",
      "No pages of output.\n",
      "Transcript written on notebook.log.\n",
      "\n"
     ]
    }
   ],
   "source": [
    "!jupyter nbconvert WordCount.ipynb --to pdf"
   ]
  },
  {
   "cell_type": "code",
   "execution_count": null,
   "metadata": {},
   "outputs": [],
   "source": []
  }
 ],
 "metadata": {
  "kernelspec": {
   "display_name": "Python 3",
   "language": "python",
   "name": "python3"
  },
  "language_info": {
   "codemirror_mode": {
    "name": "ipython",
    "version": 3
   },
   "file_extension": ".py",
   "mimetype": "text/x-python",
   "name": "python",
   "nbconvert_exporter": "python",
   "pygments_lexer": "ipython3",
   "version": "3.7.6"
  }
 },
 "nbformat": 4,
 "nbformat_minor": 4
}
